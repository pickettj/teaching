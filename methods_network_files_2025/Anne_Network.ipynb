{
 "cells": [
  {
   "cell_type": "code",
   "execution_count": 1,
   "id": "98659bac",
   "metadata": {},
   "outputs": [],
   "source": [
    "import pandas as pd"
   ]
  },
  {
   "cell_type": "code",
   "execution_count": 4,
   "id": "a531e2bb",
   "metadata": {},
   "outputs": [
    {
     "name": "stdout",
     "output_type": "stream",
     "text": [
      "Nodes DataFrame:\n",
      "   id             label\n",
      "0   1  John von Neumann\n",
      "1   2     David Hilbert\n",
      "2   3   Lothar Nordheim\n",
      "3   4          Einstein\n",
      "4   5          Podolski\n",
      "\n",
      "People Places DataFrame:\n",
      "        person name  year      place  \\\n",
      "0  John von Neumann  1930  Princeton   \n",
      "1  John von Neumann  1926  Göttingen   \n",
      "2  John von Neumann  1927  Göttingen   \n",
      "3     David Hilbert  1926  Göttingen   \n",
      "4  John von Neumann  1931  Princeton   \n",
      "\n",
      "                                       source  page  person_id place_id  \n",
      "0  William Poundstone -- \"Prisoner's Dillema\"  17.0          1      PRI  \n",
      "1  William Poundstone -- \"Prisoner's Dillema\"  16.0          1      GOT  \n",
      "2  William Poundstone -- \"Prisoner's Dillema\"  16.0          1      GOT  \n",
      "3  William Poundstone -- \"Prisoner's Dillema\"  16.0          2      GOT  \n",
      "4  William Poundstone -- \"Prisoner's Dillema\"  17.0          1      PRI  \n",
      "\n",
      "Edges DataFrame:\n",
      "   source  target        type      label\n",
      "0       3       4  undirected  PRI, 1935\n",
      "1       3       5  undirected  PRI, 1935\n",
      "2       4       5  undirected  PRI, 1935\n",
      "3       1       2  undirected  GOT, 1926\n",
      "4       1       2  undirected  GOT, 1927\n"
     ]
    }
   ],
   "source": [
    "# Read the CSV files into Pandas dataframes\n",
    "nodes_df = pd.read_csv('Anne_files/nodes.csv')\n",
    "people_places_df = pd.read_csv('Anne_files/people_places_table.csv')\n",
    "edges_df = pd.read_csv('Anne_files/edges table.csv')\n",
    "\n",
    "# Display the first few rows of each dataframe to verify the data\n",
    "print(\"Nodes DataFrame:\")\n",
    "print(nodes_df.head())\n",
    "print(\"\\nPeople Places DataFrame:\")\n",
    "print(people_places_df.head())\n",
    "print(\"\\nEdges DataFrame:\")\n",
    "print(edges_df.head())"
   ]
  },
  {
   "cell_type": "code",
   "execution_count": 5,
   "id": "35a2b1b5",
   "metadata": {},
   "outputs": [],
   "source": [
    "# Import necessary libraries for network visualization\n",
    "import networkx as nx\n",
    "import matplotlib.pyplot as plt\n",
    "import seaborn as sns"
   ]
  },
  {
   "cell_type": "code",
   "execution_count": 5,
   "id": "9c5a693c",
   "metadata": {},
   "outputs": [
    {
     "data": {
      "text/html": [
       "<div>\n",
       "<style scoped>\n",
       "    .dataframe tbody tr th:only-of-type {\n",
       "        vertical-align: middle;\n",
       "    }\n",
       "\n",
       "    .dataframe tbody tr th {\n",
       "        vertical-align: top;\n",
       "    }\n",
       "\n",
       "    .dataframe thead th {\n",
       "        text-align: right;\n",
       "    }\n",
       "</style>\n",
       "<table border=\"1\" class=\"dataframe\">\n",
       "  <thead>\n",
       "    <tr style=\"text-align: right;\">\n",
       "      <th></th>\n",
       "      <th>source</th>\n",
       "      <th>target</th>\n",
       "      <th>type</th>\n",
       "      <th>label</th>\n",
       "    </tr>\n",
       "  </thead>\n",
       "  <tbody>\n",
       "    <tr>\n",
       "      <th>0</th>\n",
       "      <td>3</td>\n",
       "      <td>4</td>\n",
       "      <td>undirected</td>\n",
       "      <td>PRI, 1935</td>\n",
       "    </tr>\n",
       "    <tr>\n",
       "      <th>1</th>\n",
       "      <td>3</td>\n",
       "      <td>5</td>\n",
       "      <td>undirected</td>\n",
       "      <td>PRI, 1935</td>\n",
       "    </tr>\n",
       "    <tr>\n",
       "      <th>2</th>\n",
       "      <td>4</td>\n",
       "      <td>5</td>\n",
       "      <td>undirected</td>\n",
       "      <td>PRI, 1935</td>\n",
       "    </tr>\n",
       "    <tr>\n",
       "      <th>3</th>\n",
       "      <td>1</td>\n",
       "      <td>2</td>\n",
       "      <td>undirected</td>\n",
       "      <td>GOT, 1926</td>\n",
       "    </tr>\n",
       "    <tr>\n",
       "      <th>4</th>\n",
       "      <td>1</td>\n",
       "      <td>2</td>\n",
       "      <td>undirected</td>\n",
       "      <td>GOT, 1927</td>\n",
       "    </tr>\n",
       "  </tbody>\n",
       "</table>\n",
       "</div>"
      ],
      "text/plain": [
       "   source  target        type      label\n",
       "0       3       4  undirected  PRI, 1935\n",
       "1       3       5  undirected  PRI, 1935\n",
       "2       4       5  undirected  PRI, 1935\n",
       "3       1       2  undirected  GOT, 1926\n",
       "4       1       2  undirected  GOT, 1927"
      ]
     },
     "execution_count": 5,
     "metadata": {},
     "output_type": "execute_result"
    }
   ],
   "source": []
  },
  {
   "cell_type": "code",
   "execution_count": null,
   "id": "1813eaf9",
   "metadata": {},
   "outputs": [],
   "source": []
  }
 ],
 "metadata": {
  "kernelspec": {
   "display_name": "Python 3",
   "language": "python",
   "name": "python3"
  },
  "language_info": {
   "codemirror_mode": {
    "name": "ipython",
    "version": 3
   },
   "file_extension": ".py",
   "mimetype": "text/x-python",
   "name": "python",
   "nbconvert_exporter": "python",
   "pygments_lexer": "ipython3",
   "version": "3.9.6"
  }
 },
 "nbformat": 4,
 "nbformat_minor": 5
}
