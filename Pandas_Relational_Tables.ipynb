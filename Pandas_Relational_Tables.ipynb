{
 "cells": [
  {
   "cell_type": "markdown",
   "id": "56e5a066",
   "metadata": {},
   "source": [
    "# Pandas via Jupyter for manipulating basic tabular data"
   ]
  },
  {
   "cell_type": "markdown",
   "id": "f9dd1918",
   "metadata": {},
   "source": [
    "## Part 1: Getting used to Jupyter and reading in CSV data"
   ]
  },
  {
   "cell_type": "markdown",
   "id": "7b9a1895",
   "metadata": {},
   "source": [
    "Welcome to **Jupyter Notebooks**! You probably installed Juypter via **Anaconda**. Anaconda is a suite of data science resources: one of the apps it installs is Jupyter (another especially useful one is VS Code). Jupyter is a workbook-style approach to implementing **Python** code. Python relies upon **libraries**, which are collections of functions relating to a particular task. **Pandas** is the most popular library aimed at working with tabular data, which can also approximate the functionality of a **relational database**.\n",
    "\n",
    "That is a mouthful, but the point is that we are going to use Pandas (a Python library) to manipulate and visualize tabular data, usually through the Jupyter interface. Pandas is hardly the only tool we could use to implement a relational database. Microsoft Access, Filemaker, and SQL (the latter of which refers to a language, not a particular app) are all also relational database. Pandas is free, open source, and (in my subjective opinion) easier to learn than the others."
   ]
  },
  {
   "cell_type": "markdown",
   "id": "d84a424d",
   "metadata": {},
   "source": [
    "Jupyter Notebooks operate in \"cells\". Each cell can be executed individually or sequentially to implement Python code. In addition to implementing Python code, a cell (such as this one) can also render Markdown formatting when you wish to focus on the text."
   ]
  },
  {
   "cell_type": "code",
   "execution_count": 1,
   "id": "7ac616e6",
   "metadata": {},
   "outputs": [
    {
     "name": "stdout",
     "output_type": "stream",
     "text": [
      "this is a bit Python text\n"
     ]
    }
   ],
   "source": [
    "# The pounds sign designates a comment (i.e., not computationally active) within a cell that otherwise executes code.\n",
    "# Let's try a very basic Python function, which is simply to print text:\n",
    "\n",
    "print (\"this is a bit Python text\")\n",
    "\n",
    "# pretty simple, but note that in any kind of coding the syntax really matters \n",
    "# (e.g. that the text you wish to display is in quotation marks, etc.)"
   ]
  },
  {
   "cell_type": "markdown",
   "id": "126c9f85",
   "metadata": {},
   "source": [
    "\"Vanilla\" Python can do all sorts of useful things: automate tasks using logical loops, basic mathematics, etc. It can even do some basic stuff with tabular data. But most data scientists move straight to Pandas for a broader range of functionality. So the first thing we need to do is \"summon\" Pandas. This next step unlocks many of the command we will use going forward."
   ]
  },
  {
   "cell_type": "code",
   "execution_count": 3,
   "id": "9cb1df93",
   "metadata": {},
   "outputs": [],
   "source": [
    "# Importing the library (it could take a moment to load)\n",
    "import pandas as pd"
   ]
  },
  {
   "cell_type": "markdown",
   "id": "ef9352ec",
   "metadata": {},
   "source": [
    "As historians, we differentiate between our *primary source*, which we try to keep in its original state, and our notes / transcription / markup of that text. In other words, if you want to work with a Byzantine manuscript, for instance, you could highlights part of the PDF, or transcribe it into a text file, but you would never write on the original document. Data science is no different: usually we *read in* data from a file (a CSV file, for instance), but once it is read in, you are working with a copy of the original document. You can modify the original document if you wish, but you don't have to, and would rarely want to do so.\n",
    "\n",
    "\n",
    "Let's start by doing something very simple: reading in a CSV file, saving it as a local variable, and then looking at it."
   ]
  },
  {
   "cell_type": "markdown",
   "id": "4e242fac",
   "metadata": {},
   "source": [
    "In order to \"read in\" a file as a local variable, however, we need to know where it \"lives,\" which brings us to the idea of **path**. The files on your computer are organized hierarchically, like a tree. The \"path\" is the sequence of steps that you have to \"walk\" in order to go from the **root** to the file you are looking for.\n"
   ]
  },
  {
   "cell_type": "code",
   "execution_count": 4,
   "id": "aa494d0b",
   "metadata": {},
   "outputs": [],
   "source": [
    "# Read in the dataframe\n",
    "df = pd.read_csv(\"/Users/PICKETTJ/Dropbox/Active_Directories/Teaching/Graduate_Seminars/Historical_Methods_spring2025/Class_Exercises_Methods/initial_student_tabular_data/chrvalaandrew_Military_Strength_DDR.csv\")\n"
   ]
  },
  {
   "cell_type": "markdown",
   "id": "660c69bf",
   "metadata": {},
   "source": [
    "Some notes about this first, basic step:\n",
    "    \n",
    "The logic here is that this variable_name (here `df` for 'dataframe', but you can call it anything you like) will now designate the local version of the CSV file, which is now stored in t dataframe (a tabular data type specific to Pandas), found at the following path location.\n",
    "\n",
    "Therefore, if you modify dataframe `df` in any future code, it will not alter the information in your CSV file (unless you explicitly tell it to). It also means that if you rename or move the source file, the code will deliver an error message if you try to run it again.  \n",
    "    \n",
    "    \n",
    "Now let's check to make sure it read in properly:"
   ]
  },
  {
   "cell_type": "code",
   "execution_count": 7,
   "id": "abb13e3a",
   "metadata": {},
   "outputs": [
    {
     "data": {
      "text/html": [
       "<div>\n",
       "<style scoped>\n",
       "    .dataframe tbody tr th:only-of-type {\n",
       "        vertical-align: middle;\n",
       "    }\n",
       "\n",
       "    .dataframe tbody tr th {\n",
       "        vertical-align: top;\n",
       "    }\n",
       "\n",
       "    .dataframe thead th {\n",
       "        text-align: right;\n",
       "    }\n",
       "</style>\n",
       "<table border=\"1\" class=\"dataframe\">\n",
       "  <thead>\n",
       "    <tr style=\"text-align: right;\">\n",
       "      <th></th>\n",
       "      <th>Component</th>\n",
       "      <th>HQ</th>\n",
       "      <th>Personnel (Peak)</th>\n",
       "    </tr>\n",
       "  </thead>\n",
       "  <tbody>\n",
       "    <tr>\n",
       "      <th>0</th>\n",
       "      <td>NVA</td>\n",
       "      <td>Strausberg</td>\n",
       "      <td>223,000</td>\n",
       "    </tr>\n",
       "    <tr>\n",
       "      <th>1</th>\n",
       "      <td>LaSK</td>\n",
       "      <td>Geltow</td>\n",
       "      <td>105,000</td>\n",
       "    </tr>\n",
       "    <tr>\n",
       "      <th>2</th>\n",
       "      <td>VM</td>\n",
       "      <td>Rostock</td>\n",
       "      <td>27,000</td>\n",
       "    </tr>\n",
       "    <tr>\n",
       "      <th>3</th>\n",
       "      <td>LSK</td>\n",
       "      <td>Strausberg</td>\n",
       "      <td>44,000</td>\n",
       "    </tr>\n",
       "    <tr>\n",
       "      <th>4</th>\n",
       "      <td>Grenztruppen</td>\n",
       "      <td>Paetz</td>\n",
       "      <td>47,000</td>\n",
       "    </tr>\n",
       "    <tr>\n",
       "      <th>5</th>\n",
       "      <td>MFSS</td>\n",
       "      <td>Lichtenberg</td>\n",
       "      <td>91,000</td>\n",
       "    </tr>\n",
       "    <tr>\n",
       "      <th>6</th>\n",
       "      <td>Vopo</td>\n",
       "      <td>Berlin</td>\n",
       "      <td>275,000</td>\n",
       "    </tr>\n",
       "    <tr>\n",
       "      <th>7</th>\n",
       "      <td>KDA</td>\n",
       "      <td>Berlin</td>\n",
       "      <td>210,000</td>\n",
       "    </tr>\n",
       "    <tr>\n",
       "      <th>8</th>\n",
       "      <td>NaN</td>\n",
       "      <td>NaN</td>\n",
       "      <td>799,000</td>\n",
       "    </tr>\n",
       "  </tbody>\n",
       "</table>\n",
       "</div>"
      ],
      "text/plain": [
       "      Component           HQ Personnel (Peak)\n",
       "0           NVA   Strausberg          223,000\n",
       "1          LaSK       Geltow          105,000\n",
       "2            VM      Rostock           27,000\n",
       "3           LSK   Strausberg           44,000\n",
       "4  Grenztruppen        Paetz           47,000\n",
       "5          MFSS  Lichtenberg           91,000\n",
       "6          Vopo       Berlin          275,000\n",
       "7           KDA       Berlin          210,000\n",
       "8           NaN          NaN          799,000"
      ]
     },
     "execution_count": 7,
     "metadata": {},
     "output_type": "execute_result"
    }
   ],
   "source": [
    "# display the dataframe information simply by inputting the variable name and executing the code\n",
    "df"
   ]
  },
  {
   "cell_type": "code",
   "execution_count": 10,
   "id": "a18cb95d",
   "metadata": {},
   "outputs": [
    {
     "data": {
      "text/html": [
       "<div>\n",
       "<style scoped>\n",
       "    .dataframe tbody tr th:only-of-type {\n",
       "        vertical-align: middle;\n",
       "    }\n",
       "\n",
       "    .dataframe tbody tr th {\n",
       "        vertical-align: top;\n",
       "    }\n",
       "\n",
       "    .dataframe thead th {\n",
       "        text-align: right;\n",
       "    }\n",
       "</style>\n",
       "<table border=\"1\" class=\"dataframe\">\n",
       "  <thead>\n",
       "    <tr style=\"text-align: right;\">\n",
       "      <th></th>\n",
       "      <th>Component</th>\n",
       "      <th>HQ</th>\n",
       "      <th>Personnel (Peak)</th>\n",
       "    </tr>\n",
       "  </thead>\n",
       "  <tbody>\n",
       "    <tr>\n",
       "      <th>count</th>\n",
       "      <td>8</td>\n",
       "      <td>8</td>\n",
       "      <td>9</td>\n",
       "    </tr>\n",
       "    <tr>\n",
       "      <th>unique</th>\n",
       "      <td>8</td>\n",
       "      <td>6</td>\n",
       "      <td>9</td>\n",
       "    </tr>\n",
       "    <tr>\n",
       "      <th>top</th>\n",
       "      <td>NVA</td>\n",
       "      <td>Strausberg</td>\n",
       "      <td>223,000</td>\n",
       "    </tr>\n",
       "    <tr>\n",
       "      <th>freq</th>\n",
       "      <td>1</td>\n",
       "      <td>2</td>\n",
       "      <td>1</td>\n",
       "    </tr>\n",
       "  </tbody>\n",
       "</table>\n",
       "</div>"
      ],
      "text/plain": [
       "       Component          HQ Personnel (Peak)\n",
       "count          8           8                9\n",
       "unique         8           6                9\n",
       "top          NVA  Strausberg          223,000\n",
       "freq           1           2                1"
      ]
     },
     "execution_count": 10,
     "metadata": {},
     "output_type": "execute_result"
    }
   ],
   "source": [
    "# get some basic descriptive information about the dataframe\n",
    "df.describe()"
   ]
  },
  {
   "cell_type": "code",
   "execution_count": null,
   "id": "06afb60d",
   "metadata": {},
   "outputs": [],
   "source": []
  }
 ],
 "metadata": {
  "kernelspec": {
   "display_name": "Python 3 (ipykernel)",
   "language": "python",
   "name": "python3"
  },
  "language_info": {
   "codemirror_mode": {
    "name": "ipython",
    "version": 3
   },
   "file_extension": ".py",
   "mimetype": "text/x-python",
   "name": "python",
   "nbconvert_exporter": "python",
   "pygments_lexer": "ipython3",
   "version": "3.9.7"
  }
 },
 "nbformat": 4,
 "nbformat_minor": 5
}
